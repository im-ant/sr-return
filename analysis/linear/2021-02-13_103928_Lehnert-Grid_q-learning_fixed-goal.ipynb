{
 "cells": [
  {
   "cell_type": "markdown",
   "metadata": {},
   "source": [
    "# Lehnert Control\n",
    "\n",
    "Experiment: `/network/tmp1/chenant/ant/sr_trace/2021-02-13/10-39-28`\n",
    "\n",
    "Today: February 13, 2021"
   ]
  },
  {
   "cell_type": "code",
   "execution_count": 1,
   "metadata": {},
   "outputs": [],
   "source": [
    "import numpy as np\n",
    "import pandas as pd\n",
    "import matplotlib.pyplot as plt\n",
    "import seaborn as sns"
   ]
  },
  {
   "cell_type": "markdown",
   "metadata": {},
   "source": [
    "## Import files\n",
    "\n",
    "Read the dfs, filter out the LSF value function agent from the `1228` runs and use the new LSF value function agent from the `1230` runs (which has the elig traces) for comparison."
   ]
  },
  {
   "cell_type": "code",
   "execution_count": 2,
   "metadata": {},
   "outputs": [],
   "source": [
    "sfAg_in_path = '/Users/anthony/Playground/tensorboard_logs/sr_return/2021-02-13/10-39-28/progress.csv'\n",
    "\n",
    "pd_df_sep = '\\|\\|'"
   ]
  },
  {
   "cell_type": "code",
   "execution_count": 3,
   "metadata": {},
   "outputs": [
    {
     "name": "stderr",
     "output_type": "stream",
     "text": [
      "/Users/anthony/anaconda3/lib/python3.7/site-packages/ipykernel_launcher.py:2: ParserWarning: Falling back to the 'python' engine because the 'c' engine does not support regex separators (separators > 1 char and different from '\\s+' are interpreted as regex); you can avoid this warning by specifying engine='python'.\n",
      "  \n"
     ]
    }
   ],
   "source": [
    "# LSF value function agent\n",
    "sf_ag_raw_df = pd.read_csv(sfAg_in_path, sep=pd_df_sep)"
   ]
  },
  {
   "cell_type": "code",
   "execution_count": 4,
   "metadata": {
    "scrolled": false
   },
   "outputs": [
    {
     "name": "stdout",
     "output_type": "stream",
     "text": [
      "24000\n"
     ]
    },
    {
     "data": {
      "text/html": [
       "<div>\n",
       "<style scoped>\n",
       "    .dataframe tbody tr th:only-of-type {\n",
       "        vertical-align: middle;\n",
       "    }\n",
       "\n",
       "    .dataframe tbody tr th {\n",
       "        vertical-align: top;\n",
       "    }\n",
       "\n",
       "    .dataframe thead th {\n",
       "        text-align: right;\n",
       "    }\n",
       "</style>\n",
       "<table border=\"1\" class=\"dataframe\">\n",
       "  <thead>\n",
       "    <tr style=\"text-align: right;\">\n",
       "      <th></th>\n",
       "      <th>2021-02-13 10:39:28,727</th>\n",
       "      <th>num_episodes</th>\n",
       "      <th>envCls_name</th>\n",
       "      <th>env_kwargs</th>\n",
       "      <th>agentCls_name</th>\n",
       "      <th>seed</th>\n",
       "      <th>gamma</th>\n",
       "      <th>lr</th>\n",
       "      <th>sf_lr</th>\n",
       "      <th>reward_lr</th>\n",
       "      <th>...</th>\n",
       "      <th>total_steps</th>\n",
       "      <th>cumulative_reward</th>\n",
       "      <th>v_fn_rmse</th>\n",
       "      <th>sf_G_rmse</th>\n",
       "      <th>sf_matrix_rmse</th>\n",
       "      <th>reward_vec_rmse</th>\n",
       "      <th>value_loss_avg</th>\n",
       "      <th>reward_loss_avg</th>\n",
       "      <th>sf_loss_avg</th>\n",
       "      <th>et_loss_avg</th>\n",
       "    </tr>\n",
       "  </thead>\n",
       "  <tbody>\n",
       "    <tr>\n",
       "      <th>0</th>\n",
       "      <td>2021-02-13 10:39:28,784</td>\n",
       "      <td>400</td>\n",
       "      <td>LehnertGridWorldEnv</td>\n",
       "      <td>{'width': 10, 'slip_prob': 0.05, 'episode_max_...</td>\n",
       "      <td>QAgent</td>\n",
       "      <td>2</td>\n",
       "      <td>0.9</td>\n",
       "      <td>0.01</td>\n",
       "      <td>None</td>\n",
       "      <td>None</td>\n",
       "      <td>...</td>\n",
       "      <td>201</td>\n",
       "      <td>0.0</td>\n",
       "      <td>None</td>\n",
       "      <td>None</td>\n",
       "      <td>None</td>\n",
       "      <td>None</td>\n",
       "      <td>5.890170e-12</td>\n",
       "      <td>None</td>\n",
       "      <td>None</td>\n",
       "      <td>None</td>\n",
       "    </tr>\n",
       "    <tr>\n",
       "      <th>1</th>\n",
       "      <td>2021-02-13 10:39:28,820</td>\n",
       "      <td>400</td>\n",
       "      <td>LehnertGridWorldEnv</td>\n",
       "      <td>{'width': 10, 'slip_prob': 0.05, 'episode_max_...</td>\n",
       "      <td>QAgent</td>\n",
       "      <td>2</td>\n",
       "      <td>0.9</td>\n",
       "      <td>0.01</td>\n",
       "      <td>None</td>\n",
       "      <td>None</td>\n",
       "      <td>...</td>\n",
       "      <td>201</td>\n",
       "      <td>0.0</td>\n",
       "      <td>None</td>\n",
       "      <td>None</td>\n",
       "      <td>None</td>\n",
       "      <td>None</td>\n",
       "      <td>5.446743e-12</td>\n",
       "      <td>None</td>\n",
       "      <td>None</td>\n",
       "      <td>None</td>\n",
       "    </tr>\n",
       "    <tr>\n",
       "      <th>2</th>\n",
       "      <td>2021-02-13 10:39:28,849</td>\n",
       "      <td>400</td>\n",
       "      <td>LehnertGridWorldEnv</td>\n",
       "      <td>{'width': 10, 'slip_prob': 0.05, 'episode_max_...</td>\n",
       "      <td>QAgent</td>\n",
       "      <td>2</td>\n",
       "      <td>0.9</td>\n",
       "      <td>0.01</td>\n",
       "      <td>None</td>\n",
       "      <td>None</td>\n",
       "      <td>...</td>\n",
       "      <td>201</td>\n",
       "      <td>0.0</td>\n",
       "      <td>None</td>\n",
       "      <td>None</td>\n",
       "      <td>None</td>\n",
       "      <td>None</td>\n",
       "      <td>6.083269e-12</td>\n",
       "      <td>None</td>\n",
       "      <td>None</td>\n",
       "      <td>None</td>\n",
       "    </tr>\n",
       "  </tbody>\n",
       "</table>\n",
       "<p>3 rows × 26 columns</p>\n",
       "</div>"
      ],
      "text/plain": [
       "   2021-02-13 10:39:28,727  num_episodes          envCls_name  \\\n",
       "0  2021-02-13 10:39:28,784           400  LehnertGridWorldEnv   \n",
       "1  2021-02-13 10:39:28,820           400  LehnertGridWorldEnv   \n",
       "2  2021-02-13 10:39:28,849           400  LehnertGridWorldEnv   \n",
       "\n",
       "                                          env_kwargs agentCls_name  seed  \\\n",
       "0  {'width': 10, 'slip_prob': 0.05, 'episode_max_...        QAgent     2   \n",
       "1  {'width': 10, 'slip_prob': 0.05, 'episode_max_...        QAgent     2   \n",
       "2  {'width': 10, 'slip_prob': 0.05, 'episode_max_...        QAgent     2   \n",
       "\n",
       "   gamma    lr sf_lr reward_lr  ...  total_steps cumulative_reward  v_fn_rmse  \\\n",
       "0    0.9  0.01  None      None  ...          201               0.0       None   \n",
       "1    0.9  0.01  None      None  ...          201               0.0       None   \n",
       "2    0.9  0.01  None      None  ...          201               0.0       None   \n",
       "\n",
       "  sf_G_rmse sf_matrix_rmse  reward_vec_rmse  value_loss_avg  reward_loss_avg  \\\n",
       "0      None           None             None    5.890170e-12             None   \n",
       "1      None           None             None    5.446743e-12             None   \n",
       "2      None           None             None    6.083269e-12             None   \n",
       "\n",
       "  sf_loss_avg et_loss_avg  \n",
       "0        None        None  \n",
       "1        None        None  \n",
       "2        None        None  \n",
       "\n",
       "[3 rows x 26 columns]"
      ]
     },
     "execution_count": 4,
     "metadata": {},
     "output_type": "execute_result"
    }
   ],
   "source": [
    "withDate_Data_df = sf_ag_raw_df.copy(deep=True)\n",
    "print(len(withDate_Data_df))\n",
    "withDate_Data_df[0:3]"
   ]
  },
  {
   "cell_type": "markdown",
   "metadata": {},
   "source": [
    "#### Manually drop the date time column"
   ]
  },
  {
   "cell_type": "code",
   "execution_count": 5,
   "metadata": {},
   "outputs": [
    {
     "name": "stdout",
     "output_type": "stream",
     "text": [
      "['num_episodes', 'envCls_name', 'env_kwargs', 'agentCls_name', 'seed', 'gamma', 'lr', 'sf_lr', 'reward_lr', 'lamb', 'eta_trace', 'policy_epsilon', 'use_true_reward_params', 'use_true_sf_params', 'episode_idx', 'total_steps', 'cumulative_reward', 'v_fn_rmse', 'sf_G_rmse', 'sf_matrix_rmse', 'reward_vec_rmse', 'value_loss_avg', 'reward_loss_avg', 'sf_loss_avg', 'et_loss_avg']\n",
      "24000\n"
     ]
    },
    {
     "data": {
      "text/html": [
       "<div>\n",
       "<style scoped>\n",
       "    .dataframe tbody tr th:only-of-type {\n",
       "        vertical-align: middle;\n",
       "    }\n",
       "\n",
       "    .dataframe tbody tr th {\n",
       "        vertical-align: top;\n",
       "    }\n",
       "\n",
       "    .dataframe thead th {\n",
       "        text-align: right;\n",
       "    }\n",
       "</style>\n",
       "<table border=\"1\" class=\"dataframe\">\n",
       "  <thead>\n",
       "    <tr style=\"text-align: right;\">\n",
       "      <th></th>\n",
       "      <th>num_episodes</th>\n",
       "      <th>envCls_name</th>\n",
       "      <th>env_kwargs</th>\n",
       "      <th>agentCls_name</th>\n",
       "      <th>seed</th>\n",
       "      <th>gamma</th>\n",
       "      <th>lr</th>\n",
       "      <th>sf_lr</th>\n",
       "      <th>reward_lr</th>\n",
       "      <th>lamb</th>\n",
       "      <th>...</th>\n",
       "      <th>total_steps</th>\n",
       "      <th>cumulative_reward</th>\n",
       "      <th>v_fn_rmse</th>\n",
       "      <th>sf_G_rmse</th>\n",
       "      <th>sf_matrix_rmse</th>\n",
       "      <th>reward_vec_rmse</th>\n",
       "      <th>value_loss_avg</th>\n",
       "      <th>reward_loss_avg</th>\n",
       "      <th>sf_loss_avg</th>\n",
       "      <th>et_loss_avg</th>\n",
       "    </tr>\n",
       "  </thead>\n",
       "  <tbody>\n",
       "    <tr>\n",
       "      <th>0</th>\n",
       "      <td>400</td>\n",
       "      <td>LehnertGridWorldEnv</td>\n",
       "      <td>{'width': 10, 'slip_prob': 0.05, 'episode_max_...</td>\n",
       "      <td>QAgent</td>\n",
       "      <td>2</td>\n",
       "      <td>0.9</td>\n",
       "      <td>0.01</td>\n",
       "      <td>None</td>\n",
       "      <td>None</td>\n",
       "      <td>0.0</td>\n",
       "      <td>...</td>\n",
       "      <td>201</td>\n",
       "      <td>0.0</td>\n",
       "      <td>None</td>\n",
       "      <td>None</td>\n",
       "      <td>None</td>\n",
       "      <td>None</td>\n",
       "      <td>5.890170e-12</td>\n",
       "      <td>None</td>\n",
       "      <td>None</td>\n",
       "      <td>None</td>\n",
       "    </tr>\n",
       "    <tr>\n",
       "      <th>1</th>\n",
       "      <td>400</td>\n",
       "      <td>LehnertGridWorldEnv</td>\n",
       "      <td>{'width': 10, 'slip_prob': 0.05, 'episode_max_...</td>\n",
       "      <td>QAgent</td>\n",
       "      <td>2</td>\n",
       "      <td>0.9</td>\n",
       "      <td>0.01</td>\n",
       "      <td>None</td>\n",
       "      <td>None</td>\n",
       "      <td>0.0</td>\n",
       "      <td>...</td>\n",
       "      <td>201</td>\n",
       "      <td>0.0</td>\n",
       "      <td>None</td>\n",
       "      <td>None</td>\n",
       "      <td>None</td>\n",
       "      <td>None</td>\n",
       "      <td>5.446743e-12</td>\n",
       "      <td>None</td>\n",
       "      <td>None</td>\n",
       "      <td>None</td>\n",
       "    </tr>\n",
       "    <tr>\n",
       "      <th>2</th>\n",
       "      <td>400</td>\n",
       "      <td>LehnertGridWorldEnv</td>\n",
       "      <td>{'width': 10, 'slip_prob': 0.05, 'episode_max_...</td>\n",
       "      <td>QAgent</td>\n",
       "      <td>2</td>\n",
       "      <td>0.9</td>\n",
       "      <td>0.01</td>\n",
       "      <td>None</td>\n",
       "      <td>None</td>\n",
       "      <td>0.0</td>\n",
       "      <td>...</td>\n",
       "      <td>201</td>\n",
       "      <td>0.0</td>\n",
       "      <td>None</td>\n",
       "      <td>None</td>\n",
       "      <td>None</td>\n",
       "      <td>None</td>\n",
       "      <td>6.083269e-12</td>\n",
       "      <td>None</td>\n",
       "      <td>None</td>\n",
       "      <td>None</td>\n",
       "    </tr>\n",
       "  </tbody>\n",
       "</table>\n",
       "<p>3 rows × 25 columns</p>\n",
       "</div>"
      ],
      "text/plain": [
       "   num_episodes          envCls_name  \\\n",
       "0           400  LehnertGridWorldEnv   \n",
       "1           400  LehnertGridWorldEnv   \n",
       "2           400  LehnertGridWorldEnv   \n",
       "\n",
       "                                          env_kwargs agentCls_name  seed  \\\n",
       "0  {'width': 10, 'slip_prob': 0.05, 'episode_max_...        QAgent     2   \n",
       "1  {'width': 10, 'slip_prob': 0.05, 'episode_max_...        QAgent     2   \n",
       "2  {'width': 10, 'slip_prob': 0.05, 'episode_max_...        QAgent     2   \n",
       "\n",
       "   gamma    lr sf_lr reward_lr  lamb  ... total_steps  cumulative_reward  \\\n",
       "0    0.9  0.01  None      None   0.0  ...         201                0.0   \n",
       "1    0.9  0.01  None      None   0.0  ...         201                0.0   \n",
       "2    0.9  0.01  None      None   0.0  ...         201                0.0   \n",
       "\n",
       "  v_fn_rmse sf_G_rmse  sf_matrix_rmse  reward_vec_rmse  value_loss_avg  \\\n",
       "0      None      None            None             None    5.890170e-12   \n",
       "1      None      None            None             None    5.446743e-12   \n",
       "2      None      None            None             None    6.083269e-12   \n",
       "\n",
       "  reward_loss_avg sf_loss_avg et_loss_avg  \n",
       "0            None        None        None  \n",
       "1            None        None        None  \n",
       "2            None        None        None  \n",
       "\n",
       "[3 rows x 25 columns]"
      ]
     },
     "execution_count": 5,
     "metadata": {},
     "output_type": "execute_result"
    }
   ],
   "source": [
    "Data_df = withDate_Data_df.copy(deep=True)\n",
    "del Data_df['2021-02-13 10:39:28,727']\n",
    "print(list(Data_df))\n",
    "print(len(Data_df))\n",
    "Data_df[0:3]"
   ]
  },
  {
   "cell_type": "markdown",
   "metadata": {},
   "source": [
    "## Fixed lr, performance"
   ]
  },
  {
   "cell_type": "code",
   "execution_count": 7,
   "metadata": {},
   "outputs": [
    {
     "name": "stdout",
     "output_type": "stream",
     "text": [
      "{0.1, 0.01, 0.2, 0.3}\n"
     ]
    }
   ],
   "source": [
    "print(set(Data_df['lr']))"
   ]
  },
  {
   "cell_type": "code",
   "execution_count": 15,
   "metadata": {},
   "outputs": [
    {
     "data": {
      "image/png": "[encoded data removed]",
      "text/plain": [
       "<Figure size 432x288 with 1 Axes>"
      ]
     },
     "metadata": {
      "needs_background": "light"
     },
     "output_type": "display_data"
    }
   ],
   "source": [
    "def script_plot_performance(in_df):\n",
    "    plt_x = 'episode_idx'\n",
    "    plt_y = 'total_steps'\n",
    "    plt_ci = 95\n",
    "    plt_n_boot = 200\n",
    "    \n",
    "    # # \n",
    "    filters = {\n",
    "        'lr': [0.01, 0.1, 0.2,0.3]\n",
    "    }\n",
    "    \n",
    "    # ==\n",
    "    # Copy and filter\n",
    "    df = in_df.copy(deep=True)\n",
    "    for k in filters:\n",
    "        df = df[df[k].isin(filters[k])]\n",
    "    \n",
    "    # ==\n",
    "    # Plot\n",
    "    sns.lineplot(x=plt_x, y=plt_y, \n",
    "                 hue='lr',\n",
    "                 ci=plt_ci, n_boot=plt_n_boot, \n",
    "                 data=df)\n",
    "    \n",
    "    \n",
    "\n",
    "script_plot_performance(Data_df)"
   ]
  },
  {
   "cell_type": "code",
   "execution_count": null,
   "metadata": {},
   "outputs": [],
   "source": []
  },
  {
   "cell_type": "code",
   "execution_count": null,
   "metadata": {},
   "outputs": [],
   "source": []
  }
 ],
 "metadata": {
  "kernelspec": {
   "display_name": "Python 3",
   "language": "python",
   "name": "python3"
  },
  "language_info": {
   "codemirror_mode": {
    "name": "ipython",
    "version": 3
   },
   "file_extension": ".py",
   "mimetype": "text/x-python",
   "name": "python",
   "nbconvert_exporter": "python",
   "pygments_lexer": "ipython3",
   "version": "3.7.5"
  }
 },
 "nbformat": 4,
 "nbformat_minor": 4
}

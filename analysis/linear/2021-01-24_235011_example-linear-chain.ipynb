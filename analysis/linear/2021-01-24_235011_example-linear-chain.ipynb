{
 "cells": [
  {
   "cell_type": "markdown",
   "metadata": {},
   "source": [
    "# Illustrative linear chain experiment\n",
    "\n",
    "Exp path: `/network/tmp1/chenant/ant/sr_trace/2021-01-24/23-50-11`\n",
    "\n",
    "Today: January 24, 2021"
   ]
  },
  {
   "cell_type": "code",
   "execution_count": 10,
   "metadata": {},
   "outputs": [],
   "source": [
    "import os\n",
    "import glob\n",
    "import json\n",
    "\n",
    "import numpy as np\n",
    "import pandas as pd\n",
    "import matplotlib.pyplot as plt\n",
    "import seaborn as sns"
   ]
  },
  {
   "cell_type": "markdown",
   "metadata": {},
   "source": [
    "## Import files\n",
    "Just focusing on the checkpoints "
   ]
  },
  {
   "cell_type": "code",
   "execution_count": 15,
   "metadata": {},
   "outputs": [
    {
     "name": "stdout",
     "output_type": "stream",
     "text": [
      "80\n"
     ]
    },
    {
     "data": {
      "text/plain": [
       "8"
      ]
     },
     "execution_count": 15,
     "metadata": {},
     "output_type": "execute_result"
    }
   ],
   "source": [
    "Experiment_Dir = '/Users/anthony/Playground/tensorboard_logs/sr_return/2021-01-24/23-50-11'\n",
    "Checkpoint_wc = 'checkpoint/ckpt*.json'\n",
    "\n",
    "In_File_list = glob.glob(os.path.join(Experiment_Dir, Checkpoint_wc))\n",
    "print(len(In_File_list))\n",
    "\n",
    "# Parse\n",
    "def script_get_input_dict(path_list):\n",
    "    in_dict = {}\n",
    "    for path in path_list:\n",
    "        partStr = path.split('/')[-1]\n",
    "        strParts = partStr.split('_')\n",
    "        agId = '_'.join(strParts[2:]).split('.')[0]\n",
    "        episIdx = int(strParts[1].split('-')[-1])\n",
    "        \n",
    "        with open(path) as f:\n",
    "            data = json.load(f)\n",
    "            \n",
    "        # numpy-fy\n",
    "        for param_k in data['agent']:\n",
    "            data['agent'][param_k] = np.array(data['agent'][param_k])\n",
    "        \n",
    "        if not agId in in_dict:\n",
    "            in_dict[agId] = {}\n",
    "        in_dict[agId][episIdx] = data\n",
    "        \n",
    "    return in_dict\n",
    "\n",
    "\n",
    "In_Dict = script_get_input_dict(In_File_list)\n",
    "len(In_Dict)"
   ]
  },
  {
   "cell_type": "code",
   "execution_count": 19,
   "metadata": {
    "scrolled": true
   },
   "outputs": [
    {
     "data": {
      "text/plain": [
       "{'episode_idx': 0,\n",
       " 'cfg': {'training': {'num_episodes': 10, 'seed': 0},\n",
       "  'logging': {'dir_path': './', 'print_freq': 100},\n",
       "  'env': {'cls_string': 'SimpleLinearChainEnv',\n",
       "   'kwargs': {'n_states': 13, 'skip_prob': 0.0, 'terminal_reward_stdev': 0.0}},\n",
       "  'agent': {'kwargs': {'lr': 0.9,\n",
       "    'gamma': 0.9,\n",
       "    'lamb': 0.0,\n",
       "    'eta_trace': 0.0,\n",
       "    'use_true_reward_params': False,\n",
       "    'use_true_sf_params': False},\n",
       "   'cls_string': 'SFReturnAgent'}},\n",
       " 'agent': {'Wr': array([0. , 0. , 0. , 0. , 0. , 0. , 0. , 0. , 0. , 0. , 0. , 0. , 0.9]),\n",
       "  'Ws': array([[[1., 0., 0., 0., 0., 0., 0., 0., 0., 0., 0., 0., 0.],\n",
       "          [0., 1., 0., 0., 0., 0., 0., 0., 0., 0., 0., 0., 0.],\n",
       "          [0., 0., 1., 0., 0., 0., 0., 0., 0., 0., 0., 0., 0.],\n",
       "          [0., 0., 0., 1., 0., 0., 0., 0., 0., 0., 0., 0., 0.],\n",
       "          [0., 0., 0., 0., 1., 0., 0., 0., 0., 0., 0., 0., 0.],\n",
       "          [0., 0., 0., 0., 0., 1., 0., 0., 0., 0., 0., 0., 0.],\n",
       "          [0., 0., 0., 0., 0., 0., 1., 0., 0., 0., 0., 0., 0.],\n",
       "          [0., 0., 0., 0., 0., 0., 0., 1., 0., 0., 0., 0., 0.],\n",
       "          [0., 0., 0., 0., 0., 0., 0., 0., 1., 0., 0., 0., 0.],\n",
       "          [0., 0., 0., 0., 0., 0., 0., 0., 0., 1., 0., 0., 0.],\n",
       "          [0., 0., 0., 0., 0., 0., 0., 0., 0., 0., 1., 0., 0.],\n",
       "          [0., 0., 0., 0., 0., 0., 0., 0., 0., 0., 0., 1., 0.],\n",
       "          [0., 0., 0., 0., 0., 0., 0., 0., 0., 0., 0., 0., 1.]]]),\n",
       "  'Wv': array([0. , 0. , 0. , 0. , 0. , 0. , 0. , 0. , 0. , 0. , 0. , 0. , 0.9])}}"
      ]
     },
     "execution_count": 19,
     "metadata": {},
     "output_type": "execute_result"
    }
   ],
   "source": [
    "In_Dict['SFReturnAgent_lamb-0o0'][0]"
   ]
  },
  {
   "cell_type": "markdown",
   "metadata": {},
   "source": [
    "## Visualize"
   ]
  },
  {
   "cell_type": "markdown",
   "metadata": {},
   "source": [
    "### Visualize value estimate over episodes"
   ]
  },
  {
   "cell_type": "code",
   "execution_count": 32,
   "metadata": {},
   "outputs": [
    {
     "data": {
      "text/plain": [
       "dict_keys(['SFReturnAgent_lamb-0o95', 'SFReturnAgent_lamb-0o0', 'SFReturnAgent_lamb-0o3', 'SFReturnAgent_lamb-0o5', 'SFReturnAgent_lamb-0o9', 'SFReturnAgent_lamb-0o7', 'SFReturnAgent_lamb-0o8', 'SFReturnAgent_lamb-1o0'])"
      ]
     },
     "execution_count": 32,
     "metadata": {},
     "output_type": "execute_result"
    }
   ],
   "source": [
    "def script_get_value_over_episodes_mat(in_dict):\n",
    "    epis_limit = 10\n",
    "    \n",
    "    out_dict = {}\n",
    "    \n",
    "    for ag_k in in_dict:\n",
    "        wv_list = []\n",
    "        for epis_i in range(epis_limit):\n",
    "            cur_Wv = in_dict[ag_k][epis_i]['agent']['Wv']\n",
    "            wv_list.append(cur_Wv)\n",
    "        \n",
    "        out_dict[str(ag_k)] = np.array(wv_list)\n",
    "            \n",
    "    \n",
    "    return out_dict\n",
    "\n",
    "\n",
    "Value_over_epis_dict = script_get_value_over_episodes_mat(In_Dict)\n",
    "Value_over_epis_dict.keys()"
   ]
  },
  {
   "cell_type": "code",
   "execution_count": 56,
   "metadata": {},
   "outputs": [
    {
     "data": {
      "image/png": "[encoded data removed]",
      "text/plain": [
       "<Figure size 864x360 with 3 Axes>"
      ]
     },
     "metadata": {
      "needs_background": "light"
     },
     "output_type": "display_data"
    }
   ],
   "source": [
    "def script_plot_value_over_episodes(v_dict):\n",
    "    keys = ['SFReturnAgent_lamb-0o0', 'SFReturnAgent_lamb-0o7','SFReturnAgent_lamb-1o0']\n",
    "    titles = ['κ=0 (TD(0))', 'κ=0.7', 'κ=1.0 (SF)']\n",
    "    \n",
    "    plt.figure(figsize=(12,5))\n",
    "    plt.title('Value')\n",
    "    \n",
    "    for i, k in enumerate(keys):\n",
    "        curmat = v_dict[k]\n",
    "        \n",
    "        plt.subplot(1,len(keys), i+1)\n",
    "        \n",
    "        cur_cbar = True if (i == (len(keys)-1)) else False\n",
    "        #cur_yticklabels = True if (i == 0) else False\n",
    "        sns.heatmap(curmat, xticklabels=False, yticklabels=True,\n",
    "                    cbar=False)\n",
    "        _ = plt.ylabel('Episodes') if (i==0) else plt.ylabel('')\n",
    "        plt.xlabel('States')\n",
    "        \n",
    "        plt.title(titles[i])\n",
    "        pass\n",
    "    pass\n",
    "script_plot_value_over_episodes(Value_over_epis_dict)"
   ]
  },
  {
   "cell_type": "code",
   "execution_count": 95,
   "metadata": {},
   "outputs": [
    {
     "name": "stdout",
     "output_type": "stream",
     "text": [
      "Episode: 0, State: 8\n"
     ]
    },
    {
     "data": {
      "image/png": "[encoded data removed]",
      "text/plain": [
       "<Figure size 576x144 with 3 Axes>"
      ]
     },
     "metadata": {
      "needs_background": "light"
     },
     "output_type": "display_data"
    }
   ],
   "source": [
    "def script_plot_component_at_episode(data_dict, ag_key, epis_idx, state_idx):\n",
    "    \n",
    "    plt.figure(figsize=(8,2))\n",
    "    print(f'Episode: {epis_idx}, State: {state_idx}')\n",
    "    \n",
    "    plt.subplot(3,1,1)\n",
    "    cur_vec = In_Dict[ag_key][epis_idx]['agent']['Ws'][0,state_idx,:]\n",
    "    cur_vec = cur_vec.reshape(1,13)\n",
    "    plt.imshow(cur_vec)\n",
    "    \n",
    "    plt.subplot(3,1,2)\n",
    "    cur_vec = In_Dict[ag_key][epis_idx]['agent']['Wr']\n",
    "    cur_vec = cur_vec.reshape(1,13)\n",
    "    plt.imshow(cur_vec)\n",
    "    \n",
    "    plt.subplot(3,1,3)\n",
    "    cur_vec = In_Dict[ag_key][epis_idx]['agent']['Wv']\n",
    "    cur_vec = cur_vec.reshape(1,13)\n",
    "    plt.imshow(cur_vec)\n",
    "    \n",
    "    \n",
    "    \n",
    "script_plot_component_at_episode(In_Dict, 'SFReturnAgent_lamb-0o7', 0, 8)"
   ]
  },
  {
   "cell_type": "code",
   "execution_count": 96,
   "metadata": {},
   "outputs": [
    {
     "name": "stdout",
     "output_type": "stream",
     "text": [
      "Episode: 1, State: 8\n"
     ]
    },
    {
     "data": {
      "image/png": "[encoded data removed]",
      "text/plain": [
       "<Figure size 576x144 with 3 Axes>"
      ]
     },
     "metadata": {
      "needs_background": "light"
     },
     "output_type": "display_data"
    }
   ],
   "source": [
    "script_plot_component_at_episode(In_Dict, 'SFReturnAgent_lamb-0o7', 1, 8)"
   ]
  },
  {
   "cell_type": "markdown",
   "metadata": {},
   "source": [
    "Seems like SF has one-step advantage since it doesn't need to learn about itself first. But, point still stands."
   ]
  },
  {
   "cell_type": "code",
   "execution_count": 97,
   "metadata": {},
   "outputs": [
    {
     "name": "stdout",
     "output_type": "stream",
     "text": [
      "Episode: 1, State: 8\n"
     ]
    },
    {
     "data": {
      "image/png": "[encoded data removed]",
      "text/plain": [
       "<Figure size 576x144 with 3 Axes>"
      ]
     },
     "metadata": {
      "needs_background": "light"
     },
     "output_type": "display_data"
    }
   ],
   "source": [
    "script_plot_component_at_episode(In_Dict, 'SFReturnAgent_lamb-0o0', 1, 8)"
   ]
  },
  {
   "cell_type": "code",
   "execution_count": 98,
   "metadata": {},
   "outputs": [
    {
     "name": "stdout",
     "output_type": "stream",
     "text": [
      "Episode: 1, State: 8\n"
     ]
    },
    {
     "data": {
      "image/png": "[encoded data removed]",
      "text/plain": [
       "<Figure size 576x144 with 3 Axes>"
      ]
     },
     "metadata": {
      "needs_background": "light"
     },
     "output_type": "display_data"
    }
   ],
   "source": [
    "script_plot_component_at_episode(In_Dict, 'SFReturnAgent_lamb-1o0', 1, 8)"
   ]
  },
  {
   "cell_type": "code",
   "execution_count": 71,
   "metadata": {},
   "outputs": [
    {
     "data": {
      "text/plain": [
       "<matplotlib.image.AxesImage at 0x7f8de3df9810>"
      ]
     },
     "execution_count": 71,
     "metadata": {},
     "output_type": "execute_result"
    },
    {
     "data": {
      "image/png": "[encoded data removed]",
      "text/plain": [
       "<Figure size 432x288 with 1 Axes>"
      ]
     },
     "metadata": {
      "needs_background": "light"
     },
     "output_type": "display_data"
    }
   ],
   "source": [
    "plt.imshow(In_Dict['SFReturnAgent_lamb-0o7'][1]['agent']['Ws'][0])"
   ]
  },
  {
   "cell_type": "code",
   "execution_count": null,
   "metadata": {},
   "outputs": [],
   "source": []
  },
  {
   "cell_type": "code",
   "execution_count": null,
   "metadata": {},
   "outputs": [],
   "source": []
  },
  {
   "cell_type": "code",
   "execution_count": null,
   "metadata": {},
   "outputs": [],
   "source": []
  },
  {
   "cell_type": "code",
   "execution_count": null,
   "metadata": {},
   "outputs": [],
   "source": []
  },
  {
   "cell_type": "code",
   "execution_count": null,
   "metadata": {},
   "outputs": [],
   "source": []
  },
  {
   "cell_type": "code",
   "execution_count": null,
   "metadata": {},
   "outputs": [],
   "source": []
  },
  {
   "cell_type": "code",
   "execution_count": null,
   "metadata": {},
   "outputs": [],
   "source": []
  },
  {
   "cell_type": "code",
   "execution_count": null,
   "metadata": {},
   "outputs": [],
   "source": []
  },
  {
   "cell_type": "code",
   "execution_count": null,
   "metadata": {},
   "outputs": [],
   "source": []
  },
  {
   "cell_type": "code",
   "execution_count": null,
   "metadata": {},
   "outputs": [],
   "source": []
  },
  {
   "cell_type": "code",
   "execution_count": null,
   "metadata": {},
   "outputs": [],
   "source": []
  },
  {
   "cell_type": "code",
   "execution_count": null,
   "metadata": {},
   "outputs": [],
   "source": []
  },
  {
   "cell_type": "code",
   "execution_count": null,
   "metadata": {},
   "outputs": [],
   "source": []
  },
  {
   "cell_type": "code",
   "execution_count": null,
   "metadata": {},
   "outputs": [],
   "source": []
  },
  {
   "cell_type": "code",
   "execution_count": null,
   "metadata": {},
   "outputs": [],
   "source": []
  },
  {
   "cell_type": "code",
   "execution_count": null,
   "metadata": {},
   "outputs": [],
   "source": []
  },
  {
   "cell_type": "code",
   "execution_count": null,
   "metadata": {},
   "outputs": [],
   "source": []
  },
  {
   "cell_type": "code",
   "execution_count": null,
   "metadata": {},
   "outputs": [],
   "source": []
  },
  {
   "cell_type": "code",
   "execution_count": null,
   "metadata": {},
   "outputs": [],
   "source": []
  },
  {
   "cell_type": "code",
   "execution_count": null,
   "metadata": {},
   "outputs": [],
   "source": []
  },
  {
   "cell_type": "code",
   "execution_count": null,
   "metadata": {},
   "outputs": [],
   "source": []
  },
  {
   "cell_type": "code",
   "execution_count": null,
   "metadata": {},
   "outputs": [],
   "source": []
  },
  {
   "cell_type": "code",
   "execution_count": null,
   "metadata": {},
   "outputs": [],
   "source": []
  },
  {
   "cell_type": "code",
   "execution_count": null,
   "metadata": {},
   "outputs": [],
   "source": []
  },
  {
   "cell_type": "code",
   "execution_count": null,
   "metadata": {},
   "outputs": [],
   "source": []
  }
 ],
 "metadata": {
  "kernelspec": {
   "display_name": "Python 3",
   "language": "python",
   "name": "python3"
  },
  "language_info": {
   "codemirror_mode": {
    "name": "ipython",
    "version": 3
   },
   "file_extension": ".py",
   "mimetype": "text/x-python",
   "name": "python",
   "nbconvert_exporter": "python",
   "pygments_lexer": "ipython3",
   "version": "3.7.5"
  }
 },
 "nbformat": 4,
 "nbformat_minor": 4
}

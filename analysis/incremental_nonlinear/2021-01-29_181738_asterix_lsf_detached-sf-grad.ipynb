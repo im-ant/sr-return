{
 "cells": [
  {
   "cell_type": "markdown",
   "metadata": {},
   "source": [
    "# Analysis\n"
   ]
  },
  {
   "cell_type": "code",
   "execution_count": 2,
   "metadata": {},
   "outputs": [],
   "source": [
    "import os, glob\n",
    "import yaml\n",
    "\n",
    "import numpy as np\n",
    "import pandas as pd\n",
    "import matplotlib.pyplot as plt\n",
    "import seaborn as sns"
   ]
  },
  {
   "cell_type": "markdown",
   "metadata": {},
   "source": [
    "## Read input data"
   ]
  },
  {
   "cell_type": "code",
   "execution_count": 3,
   "metadata": {
    "scrolled": false
   },
   "outputs": [
    {
     "name": "stderr",
     "output_type": "stream",
     "text": [
      "/Users/anthony/anaconda3/lib/python3.7/site-packages/ipykernel_launcher.py:23: ParserWarning: Falling back to the 'python' engine because the 'c' engine does not support regex separators (separators > 1 char and different from '\\s+' are interpreted as regex); you can avoid this warning by specifying engine='python'.\n",
      "/Users/anthony/anaconda3/lib/python3.7/site-packages/ipykernel_launcher.py:28: YAMLLoadWarning: calling yaml.load() without Loader=... is deprecated, as the default Loader is unsafe. Please read https://msg.pyyaml.org/load for full details.\n"
     ]
    },
    {
     "data": {
      "text/plain": [
       "5"
      ]
     },
     "execution_count": 3,
     "metadata": {},
     "output_type": "execute_result"
    }
   ],
   "source": [
    "def script_read_multiruns(in_parent_dir):\n",
    "    IN_PARENT_DIR = in_parent_dir\n",
    "    Prog_File_wc = '*/train_incremental.log'  # or progress.csv TODO figure out\n",
    "    Config_File_wc = '*/.hydra/config.yaml'\n",
    "    \n",
    "    PD_DF_SEP = '\\|'\n",
    "    \n",
    "    \n",
    "    def get_progress_file_dict_key(path_str):\n",
    "        \"\"\"Helper method to get dict key for both the progress files\n",
    "        and the config files\"\"\"\n",
    "        return path_str.split('/')[-2]\n",
    "    \n",
    "    def get_config_file_dict_key(path_str):\n",
    "        return path_str.split('/')[-3]\n",
    "        \n",
    "    mr_dict = {}\n",
    "    \n",
    "    prog_file_path_list = glob.glob(os.path.join(IN_PARENT_DIR, Prog_File_wc))\n",
    "    for path in prog_file_path_list:\n",
    "        d_k = get_progress_file_dict_key(path)\n",
    "        mr_dict[d_k] = {\n",
    "            'df': pd.read_csv(path, sep=PD_DF_SEP)\n",
    "        }\n",
    "    \n",
    "    for path in glob.glob(os.path.join(IN_PARENT_DIR, Config_File_wc)):\n",
    "        d_k = get_config_file_dict_key(path)\n",
    "        mr_dict[d_k]['config'] = yaml.load(open(path))\n",
    "    \n",
    "    return mr_dict\n",
    "        \n",
    "\n",
    "ksf_DataDict = script_read_multiruns(\n",
    "    '/Users/anthony/Playground/tensorboard_logs/sr_return/2021-01-29/18-17-38'\n",
    ")\n",
    "tdlamb_DataDict = script_read_multiruns(\n",
    "    '/Users/anthony/Playground/tensorboard_logs/sr_return/2021-01-22/21-44-16'\n",
    ")  # currently existing baseline\n",
    "\n",
    "len(ksf_DataDict)"
   ]
  },
  {
   "cell_type": "markdown",
   "metadata": {},
   "source": [
    "#### Get all attributes into columns and concate all runs"
   ]
  },
  {
   "cell_type": "code",
   "execution_count": 4,
   "metadata": {},
   "outputs": [
    {
     "name": "stdout",
     "output_type": "stream",
     "text": [
      "1207\n",
      "3511\n"
     ]
    },
    {
     "name": "stderr",
     "output_type": "stream",
     "text": [
      "/Users/anthony/anaconda3/lib/python3.7/site-packages/ipykernel_launcher.py:8: DeprecationWarning: Using or importing the ABCs from 'collections' instead of from 'collections.abc' is deprecated since Python 3.3,and in 3.9 it will stop working\n",
      "  \n"
     ]
    },
    {
     "data": {
      "text/html": [
       "<div>\n",
       "<style scoped>\n",
       "    .dataframe tbody tr th:only-of-type {\n",
       "        vertical-align: middle;\n",
       "    }\n",
       "\n",
       "    .dataframe tbody tr th {\n",
       "        vertical-align: top;\n",
       "    }\n",
       "\n",
       "    .dataframe thead th {\n",
       "        text-align: right;\n",
       "    }\n",
       "</style>\n",
       "<table border=\"1\" class=\"dataframe\">\n",
       "  <thead>\n",
       "    <tr style=\"text-align: right;\">\n",
       "      <th></th>\n",
       "      <th>index</th>\n",
       "      <th>[2021-01-29 18:17:54,389][Experiment][INFO] - episode_count</th>\n",
       "      <th>total_steps</th>\n",
       "      <th>episode_return</th>\n",
       "      <th>exp_average_return</th>\n",
       "      <th>value_loss</th>\n",
       "      <th>reward_loss</th>\n",
       "      <th>sf_loss</th>\n",
       "      <th>lsf_v_v_diff</th>\n",
       "      <th>et_loss</th>\n",
       "      <th>...</th>\n",
       "      <th>algo.kwargs.min_denom</th>\n",
       "      <th>algo.kwargs.sf_lambda</th>\n",
       "      <th>model.cls_string</th>\n",
       "      <th>model.kwargs.fc_sizes</th>\n",
       "      <th>model.kwargs.sf_hidden_sizes</th>\n",
       "      <th>model.kwargs.detach_sf_grad</th>\n",
       "      <th>[2021-01-30 06:24:27,245][Experiment][INFO] - episode_count</th>\n",
       "      <th>[2021-01-31 17:26:41,750][Experiment][INFO] - episode_count</th>\n",
       "      <th>[2021-01-31 05:57:12,895][Experiment][INFO] - episode_count</th>\n",
       "      <th>[2021-01-30 18:15:26,312][Experiment][INFO] - episode_count</th>\n",
       "    </tr>\n",
       "  </thead>\n",
       "  <tbody>\n",
       "    <tr>\n",
       "      <th>0</th>\n",
       "      <td>0</td>\n",
       "      <td>[2021-01-29 18:18:30,696][Experiment][INFO] - 50</td>\n",
       "      <td>4466</td>\n",
       "      <td>0.96</td>\n",
       "      <td>0.358831</td>\n",
       "      <td>0.012903</td>\n",
       "      <td>0.004845</td>\n",
       "      <td>0.000299</td>\n",
       "      <td>0.006376</td>\n",
       "      <td>None</td>\n",
       "      <td>...</td>\n",
       "      <td>0.0001</td>\n",
       "      <td>0.3</td>\n",
       "      <td>LSF_ACNetwork</td>\n",
       "      <td>128</td>\n",
       "      <td>None</td>\n",
       "      <td>True</td>\n",
       "      <td>NaN</td>\n",
       "      <td>NaN</td>\n",
       "      <td>NaN</td>\n",
       "      <td>NaN</td>\n",
       "    </tr>\n",
       "    <tr>\n",
       "      <th>1</th>\n",
       "      <td>1</td>\n",
       "      <td>[2021-01-29 18:19:01,125][Experiment][INFO] - 100</td>\n",
       "      <td>8236</td>\n",
       "      <td>0.58</td>\n",
       "      <td>0.442522</td>\n",
       "      <td>0.009798</td>\n",
       "      <td>0.003118</td>\n",
       "      <td>0.000005</td>\n",
       "      <td>0.004412</td>\n",
       "      <td>None</td>\n",
       "      <td>...</td>\n",
       "      <td>0.0001</td>\n",
       "      <td>0.3</td>\n",
       "      <td>LSF_ACNetwork</td>\n",
       "      <td>128</td>\n",
       "      <td>None</td>\n",
       "      <td>True</td>\n",
       "      <td>NaN</td>\n",
       "      <td>NaN</td>\n",
       "      <td>NaN</td>\n",
       "      <td>NaN</td>\n",
       "    </tr>\n",
       "    <tr>\n",
       "      <th>2</th>\n",
       "      <td>2</td>\n",
       "      <td>[2021-01-29 18:19:33,434][Experiment][INFO] - 150</td>\n",
       "      <td>12250</td>\n",
       "      <td>0.60</td>\n",
       "      <td>0.494684</td>\n",
       "      <td>0.011564</td>\n",
       "      <td>0.004495</td>\n",
       "      <td>0.000005</td>\n",
       "      <td>0.005442</td>\n",
       "      <td>None</td>\n",
       "      <td>...</td>\n",
       "      <td>0.0001</td>\n",
       "      <td>0.3</td>\n",
       "      <td>LSF_ACNetwork</td>\n",
       "      <td>128</td>\n",
       "      <td>None</td>\n",
       "      <td>True</td>\n",
       "      <td>NaN</td>\n",
       "      <td>NaN</td>\n",
       "      <td>NaN</td>\n",
       "      <td>NaN</td>\n",
       "    </tr>\n",
       "  </tbody>\n",
       "</table>\n",
       "<p>3 rows × 37 columns</p>\n",
       "</div>"
      ],
      "text/plain": [
       "   index [2021-01-29 18:17:54,389][Experiment][INFO] - episode_count  \\\n",
       "0      0   [2021-01-29 18:18:30,696][Experiment][INFO] - 50            \n",
       "1      1  [2021-01-29 18:19:01,125][Experiment][INFO] - 100            \n",
       "2      2  [2021-01-29 18:19:33,434][Experiment][INFO] - 150            \n",
       "\n",
       "   total_steps  episode_return  exp_average_return  value_loss  reward_loss  \\\n",
       "0         4466            0.96            0.358831    0.012903     0.004845   \n",
       "1         8236            0.58            0.442522    0.009798     0.003118   \n",
       "2        12250            0.60            0.494684    0.011564     0.004495   \n",
       "\n",
       "    sf_loss  lsf_v_v_diff et_loss  ... algo.kwargs.min_denom  \\\n",
       "0  0.000299      0.006376    None  ...                0.0001   \n",
       "1  0.000005      0.004412    None  ...                0.0001   \n",
       "2  0.000005      0.005442    None  ...                0.0001   \n",
       "\n",
       "  algo.kwargs.sf_lambda model.cls_string model.kwargs.fc_sizes  \\\n",
       "0                   0.3    LSF_ACNetwork                   128   \n",
       "1                   0.3    LSF_ACNetwork                   128   \n",
       "2                   0.3    LSF_ACNetwork                   128   \n",
       "\n",
       "  model.kwargs.sf_hidden_sizes model.kwargs.detach_sf_grad  \\\n",
       "0                         None                        True   \n",
       "1                         None                        True   \n",
       "2                         None                        True   \n",
       "\n",
       "  [2021-01-30 06:24:27,245][Experiment][INFO] - episode_count  \\\n",
       "0                                                NaN            \n",
       "1                                                NaN            \n",
       "2                                                NaN            \n",
       "\n",
       "  [2021-01-31 17:26:41,750][Experiment][INFO] - episode_count  \\\n",
       "0                                                NaN            \n",
       "1                                                NaN            \n",
       "2                                                NaN            \n",
       "\n",
       "  [2021-01-31 05:57:12,895][Experiment][INFO] - episode_count  \\\n",
       "0                                                NaN            \n",
       "1                                                NaN            \n",
       "2                                                NaN            \n",
       "\n",
       "  [2021-01-30 18:15:26,312][Experiment][INFO] - episode_count  \n",
       "0                                                NaN           \n",
       "1                                                NaN           \n",
       "2                                                NaN           \n",
       "\n",
       "[3 rows x 37 columns]"
      ]
     },
     "execution_count": 4,
     "metadata": {},
     "output_type": "execute_result"
    }
   ],
   "source": [
    "import collections\n",
    "\n",
    "def construct_data_df(runs_dict):    \n",
    "    def recursive_helper(configDict, curStr='', headerDict={}):\n",
    "        \"\"\"Helper to extract all the nested attributes into a\n",
    "        single attribute dict\"\"\"\n",
    "        # Base case: no child dictionaries\n",
    "        if not isinstance(configDict, collections.Mapping):\n",
    "            headerDict[curStr] = str(configDict)\n",
    "            return None\n",
    "        \n",
    "        # Recursion\n",
    "        for k in configDict:\n",
    "            if len(curStr) == 0:\n",
    "                childStr = k\n",
    "            else:\n",
    "                childStr = f'{curStr}.{k}'\n",
    "            recursive_helper(configDict[k], childStr, headerDict)\n",
    "        return None\n",
    "    \n",
    "    # ==\n",
    "    # Add configs to dataframes and concat\n",
    "    all_df_list = []\n",
    "    \n",
    "    for run_k in runs_dict:\n",
    "        cur_run_dict = runs_dict[run_k]\n",
    "        \n",
    "        # Extract header\n",
    "        config_dict = {}\n",
    "        recursive_helper(cur_run_dict['config'], \n",
    "                         curStr='', \n",
    "                         headerDict=config_dict)\n",
    "        \n",
    "        \n",
    "        # Add to dataframe\n",
    "        cur_df = cur_run_dict['df'].copy(deep=True)\n",
    "        for header_k in config_dict:\n",
    "            col_val = config_dict[header_k]\n",
    "            cur_df[header_k] = [col_val] * len(cur_df)\n",
    "            \n",
    "        \n",
    "        all_df_list.append(cur_df)\n",
    "        \n",
    "    # ==\n",
    "    # Concat and output\n",
    "    all_concat_df = pd.concat(all_df_list)\n",
    "    all_concat_df = all_concat_df.reset_index()\n",
    "    \n",
    "    return all_concat_df\n",
    "\n",
    "\n",
    "tdlamb_Data_df = construct_data_df(tdlamb_DataDict)\n",
    "kdf_Data_df = construct_data_df(ksf_DataDict)\n",
    "\n",
    "print(len(tdlamb_Data_df))\n",
    "print(len(kdf_Data_df))\n",
    "kdf_Data_df[0:3]"
   ]
  },
  {
   "cell_type": "code",
   "execution_count": 5,
   "metadata": {},
   "outputs": [
    {
     "name": "stdout",
     "output_type": "stream",
     "text": [
      "['index', '[2021-01-29 18:17:54,389][Experiment][INFO] - episode_count', 'total_steps', 'episode_return', 'exp_average_return', 'value_loss', 'reward_loss', 'sf_loss', 'lsf_v_v_diff', 'et_loss', 'training.seed', 'runner.n_steps', 'runner.kwargs.log_interval_episodes', 'runner.kwargs.log_dir_path', 'runner.kwargs.store_checkpoint', 'runner.kwargs.checkpoint_type', 'runner.kwargs.checkpoint_freq', 'runner.kwargs.checkpoint_dir_path', 'runner.kwargs.load_model_path', 'env.kwargs.env_name', 'algo.cls_string', 'algo.kwargs.discount_gamma', 'algo.kwargs.lr_alpha', 'algo.kwargs.trace_lambda', 'algo.kwargs.entropy_beta', 'algo.kwargs.grad_rms_gamma', 'algo.kwargs.grad_rms_eps', 'algo.kwargs.min_denom', 'algo.kwargs.sf_lambda', 'model.cls_string', 'model.kwargs.fc_sizes', 'model.kwargs.sf_hidden_sizes', 'model.kwargs.detach_sf_grad', '[2021-01-30 06:24:27,245][Experiment][INFO] - episode_count', '[2021-01-31 17:26:41,750][Experiment][INFO] - episode_count', '[2021-01-31 05:57:12,895][Experiment][INFO] - episode_count', '[2021-01-30 18:15:26,312][Experiment][INFO] - episode_count']\n"
     ]
    }
   ],
   "source": [
    "print(kdf_Data_df.columns.values.tolist())"
   ]
  },
  {
   "cell_type": "markdown",
   "metadata": {},
   "source": [
    "## Explatory Plots"
   ]
  },
  {
   "cell_type": "code",
   "execution_count": 11,
   "metadata": {},
   "outputs": [
    {
     "name": "stdout",
     "output_type": "stream",
     "text": [
      "{'LSF_ACLambda'}\n",
      "env.kwargs.env_name {'asterix'}\n",
      "algo.kwargs.trace_lambda {'0.0'}\n",
      "algo.kwargs.sf_lambda {'0.3', '0.8'}\n",
      "training.seed {'12', '9', '15'}\n"
     ]
    }
   ],
   "source": [
    "print(set(kdf_Data_df['algo.cls_string'].values))\n",
    "print('env.kwargs.env_name', set(kdf_Data_df['env.kwargs.env_name'].values))\n",
    "print('algo.kwargs.trace_lambda', set(kdf_Data_df['algo.kwargs.trace_lambda'].values))\n",
    "print('algo.kwargs.sf_lambda', set(kdf_Data_df['algo.kwargs.sf_lambda'].values))\n",
    "print('training.seed', set(kdf_Data_df['training.seed'].values))"
   ]
  },
  {
   "cell_type": "code",
   "execution_count": 12,
   "metadata": {},
   "outputs": [
    {
     "name": "stdout",
     "output_type": "stream",
     "text": [
      "{'ACLambda'}\n",
      "env.kwargs.env_name {'asterix'}\n",
      "algo.kwargs.trace_lambda {'0.0'}\n",
      "training.seed {'4', '2'}\n"
     ]
    }
   ],
   "source": [
    "print(set(tdlamb_Data_df['algo.cls_string'].values))\n",
    "print('env.kwargs.env_name', set(tdlamb_Data_df['env.kwargs.env_name'].values))\n",
    "print('algo.kwargs.trace_lambda', set(tdlamb_Data_df['algo.kwargs.trace_lambda'].values))\n",
    "print('training.seed', set(tdlamb_Data_df['training.seed'].values))"
   ]
  },
  {
   "cell_type": "code",
   "execution_count": 14,
   "metadata": {
    "scrolled": false
   },
   "outputs": [
    {
     "data": {
      "image/png": "[encoded data removed]",
      "text/plain": [
       "<Figure size 432x288 with 1 Axes>"
      ]
     },
     "metadata": {
      "needs_background": "light"
     },
     "output_type": "display_data"
    }
   ],
   "source": [
    "def round_2_int(value, nearest=10):\n",
    "    try:\n",
    "        rounded = int(value / nearest) * nearest\n",
    "    except ValueError:\n",
    "        rounded = np.nan\n",
    "    return rounded\n",
    "\n",
    "def simple_lineplot(x, y, data, sns_kwargs={},\n",
    "                    round_x=None, round_y=None,\n",
    "                    filters=None):    \n",
    "    df = data.copy(deep=True)\n",
    "    # In case non numeric\n",
    "    df[x] = pd.to_numeric(df[x], errors='coerce')\n",
    "    df[y] = pd.to_numeric(df[y], errors='coerce')\n",
    "    # if roudning\n",
    "    if round_x is not None:\n",
    "        df[x] = [round_2_int(v, round_x) for v in df[x].values]\n",
    "    if round_y is not None:\n",
    "        df[y] = [round_2_int(v, round_y) for v in df[y].values]\n",
    "\n",
    "    \n",
    "    if filters is not None:\n",
    "        for f_k in filters:\n",
    "            df = df[df[f_k] == filters[f_k]]\n",
    "    \n",
    "    sns.lineplot(x=x, y=y,\n",
    "                 data=df, **sns_kwargs)\n",
    "    \n",
    "\n",
    "\n",
    "simple_lineplot(\n",
    "    x='total_steps', y='episode_return', \n",
    "    round_x=1e4,\n",
    "    data=kdf_Data_df,\n",
    "    sns_kwargs={'ci': 95, 'n_boot': 100, 'hue':'algo.kwargs.sf_lambda'},\n",
    "    filters={}\n",
    "    #filters={'algo.kwargs.sf_lambda': '0.3'}\n",
    ")\n",
    "#plt.legend(['TD(0)', 'KSF(0.3)'])\n",
    "plt.title(str(set(kdf_Data_df['env.kwargs.env_name'].values)))\n",
    "plt.show()"
   ]
  },
  {
   "cell_type": "markdown",
   "metadata": {},
   "source": [
    "#### Plot both baseline and selected LSF lambda"
   ]
  },
  {
   "cell_type": "code",
   "execution_count": 15,
   "metadata": {},
   "outputs": [
    {
     "data": {
      "image/png": "[encoded data removed]",
      "text/plain": [
       "<Figure size 432x288 with 1 Axes>"
      ]
     },
     "metadata": {
      "needs_background": "light"
     },
     "output_type": "display_data"
    }
   ],
   "source": [
    "simple_lineplot(\n",
    "    x='total_steps', y='episode_return', \n",
    "    round_x=1e4,\n",
    "    data=tdlamb_Data_df,\n",
    "    sns_kwargs={'ci': 95, 'n_boot': 100},\n",
    "    filters={}\n",
    ")\n",
    "\n",
    "simple_lineplot(\n",
    "    x='total_steps', y='episode_return', \n",
    "    round_x=1e4,\n",
    "    data=kdf_Data_df,\n",
    "    sns_kwargs={'ci': 95, 'n_boot': 100},\n",
    "    filters={'algo.kwargs.sf_lambda': '0.3'}\n",
    ")\n",
    "\n",
    "plt.legend(['TD(0)', 'KSF(0.3)'])\n",
    "plt.title(str(set(kdf_Data_df['env.kwargs.env_name'].values)))\n",
    "plt.show()"
   ]
  },
  {
   "cell_type": "code",
   "execution_count": null,
   "metadata": {},
   "outputs": [],
   "source": []
  },
  {
   "cell_type": "code",
   "execution_count": null,
   "metadata": {},
   "outputs": [],
   "source": []
  },
  {
   "cell_type": "code",
   "execution_count": null,
   "metadata": {},
   "outputs": [],
   "source": []
  },
  {
   "cell_type": "code",
   "execution_count": null,
   "metadata": {},
   "outputs": [],
   "source": [
    "def script_plt_multi_sf_hidden_sizes(df):\n",
    "    plt_hue = 'algo.kwargs.sf_lambda'\n",
    "    \n",
    "    df = df.copy(deep=True)\n",
    "    df[plt_hue] = pd.to_numeric(df[plt_hue], errors='coerce')\n",
    "    \n",
    "    \n",
    "    \n",
    "    plt.figure(figsize=(14,4))\n",
    "    \n",
    "    n_hues = len(set(df[plt_hue].values))\n",
    "    c_palette = sns.color_palette(\"cubehelix\", n_hues) \n",
    "    #c_palette = None\n",
    "    \n",
    "    plt.subplot(1,2,1)\n",
    "    simple_lineplot(\n",
    "        x='total_steps', y='episode_return', \n",
    "        round_x=5e3,\n",
    "        data=df,\n",
    "        sns_kwargs={'hue': 'algo.kwargs.sf_lambda', \n",
    "                    'palette': c_palette,\n",
    "                    'ci': 'sd', 'n_boot': 10},\n",
    "        filters={'model.kwargs.sf_hidden_sizes':'[256]'}\n",
    "    )\n",
    "    plt.title('SF hidden sizes: [256]')\n",
    "    \n",
    "    plt.subplot(1,2,2)\n",
    "    simple_lineplot(\n",
    "        x='total_steps', y='episode_return', \n",
    "        round_x=5e3,\n",
    "        data=df,\n",
    "        sns_kwargs={'hue': 'algo.kwargs.sf_lambda', \n",
    "                    'palette': c_palette,\n",
    "                    'ci': 'sd', 'n_boot': 10},\n",
    "        filters={'model.kwargs.sf_hidden_sizes':'[256, 256]'}\n",
    "    )\n",
    "    plt.title('SF hidden sizes: [256, 256]')\n",
    "\n",
    "script_plt_multi_sf_hidden_sizes(Data_df)"
   ]
  },
  {
   "cell_type": "code",
   "execution_count": null,
   "metadata": {},
   "outputs": [],
   "source": []
  }
 ],
 "metadata": {
  "kernelspec": {
   "display_name": "Python 3",
   "language": "python",
   "name": "python3"
  },
  "language_info": {
   "codemirror_mode": {
    "name": "ipython",
    "version": 3
   },
   "file_extension": ".py",
   "mimetype": "text/x-python",
   "name": "python",
   "nbconvert_exporter": "python",
   "pygments_lexer": "ipython3",
   "version": "3.7.5"
  }
 },
 "nbformat": 4,
 "nbformat_minor": 4
}

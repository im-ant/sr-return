{
 "cells": [
  {
   "cell_type": "markdown",
   "metadata": {},
   "source": [
    "# Analysis\n"
   ]
  },
  {
   "cell_type": "code",
   "execution_count": 1,
   "metadata": {},
   "outputs": [],
   "source": [
    "import os, glob\n",
    "import yaml\n",
    "\n",
    "import numpy as np\n",
    "import pandas as pd\n",
    "import matplotlib.pyplot as plt\n",
    "import seaborn as sns"
   ]
  },
  {
   "cell_type": "markdown",
   "metadata": {},
   "source": [
    "## Read input data"
   ]
  },
  {
   "cell_type": "code",
   "execution_count": 2,
   "metadata": {
    "scrolled": false
   },
   "outputs": [
    {
     "name": "stderr",
     "output_type": "stream",
     "text": [
      "/Users/anthony/anaconda3/lib/python3.7/site-packages/ipykernel_launcher.py:23: ParserWarning: Falling back to the 'python' engine because the 'c' engine does not support regex separators (separators > 1 char and different from '\\s+' are interpreted as regex); you can avoid this warning by specifying engine='python'.\n",
      "/Users/anthony/anaconda3/lib/python3.7/site-packages/ipykernel_launcher.py:28: YAMLLoadWarning: calling yaml.load() without Loader=... is deprecated, as the default Loader is unsafe. Please read https://msg.pyyaml.org/load for full details.\n"
     ]
    },
    {
     "data": {
      "text/plain": [
       "6"
      ]
     },
     "execution_count": 2,
     "metadata": {},
     "output_type": "execute_result"
    }
   ],
   "source": [
    "def script_read_multiruns(in_parent_dir):\n",
    "    IN_PARENT_DIR = in_parent_dir\n",
    "    Prog_File_wc = '*/train_incremental.log'  # or progress.csv TODO figure out\n",
    "    Config_File_wc = '*/.hydra/config.yaml'\n",
    "    \n",
    "    PD_DF_SEP = '\\|'\n",
    "    \n",
    "    \n",
    "    def get_progress_file_dict_key(path_str):\n",
    "        \"\"\"Helper method to get dict key for both the progress files\n",
    "        and the config files\"\"\"\n",
    "        return path_str.split('/')[-2]\n",
    "    \n",
    "    def get_config_file_dict_key(path_str):\n",
    "        return path_str.split('/')[-3]\n",
    "        \n",
    "    mr_dict = {}\n",
    "    \n",
    "    prog_file_path_list = glob.glob(os.path.join(IN_PARENT_DIR, Prog_File_wc))\n",
    "    for path in prog_file_path_list:\n",
    "        d_k = get_progress_file_dict_key(path)\n",
    "        mr_dict[d_k] = {\n",
    "            'df': pd.read_csv(path, sep=PD_DF_SEP)\n",
    "        }\n",
    "    \n",
    "    for path in glob.glob(os.path.join(IN_PARENT_DIR, Config_File_wc)):\n",
    "        d_k = get_config_file_dict_key(path)\n",
    "        mr_dict[d_k]['config'] = yaml.load(open(path))\n",
    "    \n",
    "    return mr_dict\n",
    "        \n",
    "\n",
    "ksf_DataDict = script_read_multiruns(\n",
    "    '/Users/anthony/Playground/tensorboard_logs/sr_return/2021-01-24/partial_seaquest'\n",
    ")\n",
    "tdlamb_DataDict = script_read_multiruns(\n",
    "    '/Users/anthony/Playground/tensorboard_logs/sr_return/2021-01-22/21-59-18'\n",
    ")\n",
    "\n",
    "len(ksf_DataDict)"
   ]
  },
  {
   "cell_type": "markdown",
   "metadata": {},
   "source": [
    "#### Get all attributes into columns and concate all runs"
   ]
  },
  {
   "cell_type": "code",
   "execution_count": 3,
   "metadata": {},
   "outputs": [
    {
     "name": "stdout",
     "output_type": "stream",
     "text": [
      "1590\n",
      "4143\n"
     ]
    },
    {
     "name": "stderr",
     "output_type": "stream",
     "text": [
      "/Users/anthony/anaconda3/lib/python3.7/site-packages/ipykernel_launcher.py:8: DeprecationWarning: Using or importing the ABCs from 'collections' instead of from 'collections.abc' is deprecated since Python 3.3,and in 3.9 it will stop working\n",
      "  \n"
     ]
    },
    {
     "data": {
      "text/html": [
       "<div>\n",
       "<style scoped>\n",
       "    .dataframe tbody tr th:only-of-type {\n",
       "        vertical-align: middle;\n",
       "    }\n",
       "\n",
       "    .dataframe tbody tr th {\n",
       "        vertical-align: top;\n",
       "    }\n",
       "\n",
       "    .dataframe thead th {\n",
       "        text-align: right;\n",
       "    }\n",
       "</style>\n",
       "<table border=\"1\" class=\"dataframe\">\n",
       "  <thead>\n",
       "    <tr style=\"text-align: right;\">\n",
       "      <th></th>\n",
       "      <th>index</th>\n",
       "      <th>[2021-01-24 14:13:30,383][Experiment][INFO] - episode_count</th>\n",
       "      <th>total_steps</th>\n",
       "      <th>episode_return</th>\n",
       "      <th>exp_average_return</th>\n",
       "      <th>value_loss</th>\n",
       "      <th>reward_loss</th>\n",
       "      <th>sf_loss</th>\n",
       "      <th>lsf_v_v_diff</th>\n",
       "      <th>et_loss</th>\n",
       "      <th>...</th>\n",
       "      <th>algo.kwargs.min_denom</th>\n",
       "      <th>algo.kwargs.sf_lambda</th>\n",
       "      <th>model.cls_string</th>\n",
       "      <th>model.kwargs.fc_sizes</th>\n",
       "      <th>model.kwargs.sf_hidden_sizes</th>\n",
       "      <th>[2021-01-24 23:43:26,609][Experiment][INFO] - episode_count</th>\n",
       "      <th>[2021-01-23 14:55:13,922][Experiment][INFO] - episode_count</th>\n",
       "      <th>[2021-01-26 05:01:04,171][Experiment][INFO] - episode_count</th>\n",
       "      <th>[2021-01-25 19:41:56,404][Experiment][INFO] - episode_count</th>\n",
       "      <th>[2021-01-25 10:12:53,587][Experiment][INFO] - episode_count</th>\n",
       "    </tr>\n",
       "  </thead>\n",
       "  <tbody>\n",
       "    <tr>\n",
       "      <th>0</th>\n",
       "      <td>0</td>\n",
       "      <td>[2021-01-24 14:13:40,688][Experiment][INFO] - 50</td>\n",
       "      <td>1550</td>\n",
       "      <td>0.02</td>\n",
       "      <td>0.009703</td>\n",
       "      <td>0.001402</td>\n",
       "      <td>0.000796</td>\n",
       "      <td>0.001482</td>\n",
       "      <td>0.001831</td>\n",
       "      <td>None</td>\n",
       "      <td>...</td>\n",
       "      <td>0.0001</td>\n",
       "      <td>0.3</td>\n",
       "      <td>LSF_ACNetwork</td>\n",
       "      <td>128</td>\n",
       "      <td>None</td>\n",
       "      <td>NaN</td>\n",
       "      <td>NaN</td>\n",
       "      <td>NaN</td>\n",
       "      <td>NaN</td>\n",
       "      <td>NaN</td>\n",
       "    </tr>\n",
       "    <tr>\n",
       "      <th>1</th>\n",
       "      <td>1</td>\n",
       "      <td>[2021-01-24 14:13:52,351][Experiment][INFO] - 100</td>\n",
       "      <td>3263</td>\n",
       "      <td>0.06</td>\n",
       "      <td>0.030157</td>\n",
       "      <td>0.001791</td>\n",
       "      <td>0.000572</td>\n",
       "      <td>0.000001</td>\n",
       "      <td>0.001424</td>\n",
       "      <td>None</td>\n",
       "      <td>...</td>\n",
       "      <td>0.0001</td>\n",
       "      <td>0.3</td>\n",
       "      <td>LSF_ACNetwork</td>\n",
       "      <td>128</td>\n",
       "      <td>None</td>\n",
       "      <td>NaN</td>\n",
       "      <td>NaN</td>\n",
       "      <td>NaN</td>\n",
       "      <td>NaN</td>\n",
       "      <td>NaN</td>\n",
       "    </tr>\n",
       "    <tr>\n",
       "      <th>2</th>\n",
       "      <td>2</td>\n",
       "      <td>[2021-01-24 14:14:12,518][Experiment][INFO] - 150</td>\n",
       "      <td>6319</td>\n",
       "      <td>0.42</td>\n",
       "      <td>0.186028</td>\n",
       "      <td>0.010838</td>\n",
       "      <td>0.002587</td>\n",
       "      <td>0.000002</td>\n",
       "      <td>0.003450</td>\n",
       "      <td>None</td>\n",
       "      <td>...</td>\n",
       "      <td>0.0001</td>\n",
       "      <td>0.3</td>\n",
       "      <td>LSF_ACNetwork</td>\n",
       "      <td>128</td>\n",
       "      <td>None</td>\n",
       "      <td>NaN</td>\n",
       "      <td>NaN</td>\n",
       "      <td>NaN</td>\n",
       "      <td>NaN</td>\n",
       "      <td>NaN</td>\n",
       "    </tr>\n",
       "  </tbody>\n",
       "</table>\n",
       "<p>3 rows × 37 columns</p>\n",
       "</div>"
      ],
      "text/plain": [
       "   index [2021-01-24 14:13:30,383][Experiment][INFO] - episode_count  \\\n",
       "0      0   [2021-01-24 14:13:40,688][Experiment][INFO] - 50            \n",
       "1      1  [2021-01-24 14:13:52,351][Experiment][INFO] - 100            \n",
       "2      2  [2021-01-24 14:14:12,518][Experiment][INFO] - 150            \n",
       "\n",
       "   total_steps  episode_return  exp_average_return  value_loss  reward_loss  \\\n",
       "0         1550            0.02            0.009703    0.001402     0.000796   \n",
       "1         3263            0.06            0.030157    0.001791     0.000572   \n",
       "2         6319            0.42            0.186028    0.010838     0.002587   \n",
       "\n",
       "    sf_loss  lsf_v_v_diff et_loss  ... algo.kwargs.min_denom  \\\n",
       "0  0.001482      0.001831    None  ...                0.0001   \n",
       "1  0.000001      0.001424    None  ...                0.0001   \n",
       "2  0.000002      0.003450    None  ...                0.0001   \n",
       "\n",
       "  algo.kwargs.sf_lambda model.cls_string model.kwargs.fc_sizes  \\\n",
       "0                   0.3    LSF_ACNetwork                   128   \n",
       "1                   0.3    LSF_ACNetwork                   128   \n",
       "2                   0.3    LSF_ACNetwork                   128   \n",
       "\n",
       "  model.kwargs.sf_hidden_sizes  \\\n",
       "0                         None   \n",
       "1                         None   \n",
       "2                         None   \n",
       "\n",
       "  [2021-01-24 23:43:26,609][Experiment][INFO] - episode_count  \\\n",
       "0                                                NaN            \n",
       "1                                                NaN            \n",
       "2                                                NaN            \n",
       "\n",
       "  [2021-01-23 14:55:13,922][Experiment][INFO] - episode_count  \\\n",
       "0                                                NaN            \n",
       "1                                                NaN            \n",
       "2                                                NaN            \n",
       "\n",
       "  [2021-01-26 05:01:04,171][Experiment][INFO] - episode_count  \\\n",
       "0                                                NaN            \n",
       "1                                                NaN            \n",
       "2                                                NaN            \n",
       "\n",
       "  [2021-01-25 19:41:56,404][Experiment][INFO] - episode_count  \\\n",
       "0                                                NaN            \n",
       "1                                                NaN            \n",
       "2                                                NaN            \n",
       "\n",
       "  [2021-01-25 10:12:53,587][Experiment][INFO] - episode_count  \n",
       "0                                                NaN           \n",
       "1                                                NaN           \n",
       "2                                                NaN           \n",
       "\n",
       "[3 rows x 37 columns]"
      ]
     },
     "execution_count": 3,
     "metadata": {},
     "output_type": "execute_result"
    }
   ],
   "source": [
    "import collections\n",
    "\n",
    "def construct_data_df(runs_dict):    \n",
    "    def recursive_helper(configDict, curStr='', headerDict={}):\n",
    "        \"\"\"Helper to extract all the nested attributes into a\n",
    "        single attribute dict\"\"\"\n",
    "        # Base case: no child dictionaries\n",
    "        if not isinstance(configDict, collections.Mapping):\n",
    "            headerDict[curStr] = str(configDict)\n",
    "            return None\n",
    "        \n",
    "        # Recursion\n",
    "        for k in configDict:\n",
    "            if len(curStr) == 0:\n",
    "                childStr = k\n",
    "            else:\n",
    "                childStr = f'{curStr}.{k}'\n",
    "            recursive_helper(configDict[k], childStr, headerDict)\n",
    "        return None\n",
    "    \n",
    "    # ==\n",
    "    # Add configs to dataframes and concat\n",
    "    all_df_list = []\n",
    "    \n",
    "    for run_k in runs_dict:\n",
    "        cur_run_dict = runs_dict[run_k]\n",
    "        \n",
    "        # Extract header\n",
    "        config_dict = {}\n",
    "        recursive_helper(cur_run_dict['config'], \n",
    "                         curStr='', \n",
    "                         headerDict=config_dict)\n",
    "        \n",
    "        \n",
    "        # Add to dataframe\n",
    "        cur_df = cur_run_dict['df'].copy(deep=True)\n",
    "        for header_k in config_dict:\n",
    "            col_val = config_dict[header_k]\n",
    "            cur_df[header_k] = [col_val] * len(cur_df)\n",
    "            \n",
    "        \n",
    "        all_df_list.append(cur_df)\n",
    "        \n",
    "    # ==\n",
    "    # Concat and output\n",
    "    all_concat_df = pd.concat(all_df_list)\n",
    "    all_concat_df = all_concat_df.reset_index()\n",
    "    \n",
    "    return all_concat_df\n",
    "\n",
    "\n",
    "tdlamb_Data_df = construct_data_df(tdlamb_DataDict)\n",
    "kdf_Data_df = construct_data_df(ksf_DataDict)\n",
    "\n",
    "print(len(tdlamb_Data_df))\n",
    "print(len(kdf_Data_df))\n",
    "kdf_Data_df[0:3]"
   ]
  },
  {
   "cell_type": "code",
   "execution_count": 4,
   "metadata": {},
   "outputs": [
    {
     "name": "stdout",
     "output_type": "stream",
     "text": [
      "['index', '[2021-01-24 14:13:30,383][Experiment][INFO] - episode_count', 'total_steps', 'episode_return', 'exp_average_return', 'value_loss', 'reward_loss', 'sf_loss', 'lsf_v_v_diff', 'et_loss', 'training.seed', 'runner.n_steps', 'runner.kwargs.log_interval_episodes', 'runner.kwargs.log_dir_path', 'runner.kwargs.store_checkpoint', 'runner.kwargs.checkpoint_type', 'runner.kwargs.checkpoint_freq', 'runner.kwargs.checkpoint_dir_path', 'runner.kwargs.load_model_path', 'env.kwargs.env_name', 'algo.cls_string', 'algo.kwargs.discount_gamma', 'algo.kwargs.lr_alpha', 'algo.kwargs.trace_lambda', 'algo.kwargs.entropy_beta', 'algo.kwargs.grad_rms_gamma', 'algo.kwargs.grad_rms_eps', 'algo.kwargs.min_denom', 'algo.kwargs.sf_lambda', 'model.cls_string', 'model.kwargs.fc_sizes', 'model.kwargs.sf_hidden_sizes', '[2021-01-24 23:43:26,609][Experiment][INFO] - episode_count', '[2021-01-23 14:55:13,922][Experiment][INFO] - episode_count', '[2021-01-26 05:01:04,171][Experiment][INFO] - episode_count', '[2021-01-25 19:41:56,404][Experiment][INFO] - episode_count', '[2021-01-25 10:12:53,587][Experiment][INFO] - episode_count']\n"
     ]
    }
   ],
   "source": [
    "print(kdf_Data_df.columns.values.tolist())"
   ]
  },
  {
   "cell_type": "markdown",
   "metadata": {},
   "source": [
    "## Explatory Plots"
   ]
  },
  {
   "cell_type": "code",
   "execution_count": 5,
   "metadata": {},
   "outputs": [
    {
     "data": {
      "text/plain": [
       "{'LSF_ACLambda'}"
      ]
     },
     "execution_count": 5,
     "metadata": {},
     "output_type": "execute_result"
    }
   ],
   "source": [
    "set(kdf_Data_df['algo.cls_string'].values)"
   ]
  },
  {
   "cell_type": "code",
   "execution_count": 6,
   "metadata": {},
   "outputs": [
    {
     "data": {
      "text/plain": [
       "{'0.0'}"
      ]
     },
     "execution_count": 6,
     "metadata": {},
     "output_type": "execute_result"
    }
   ],
   "source": [
    "set(kdf_Data_df['algo.kwargs.trace_lambda'].values)"
   ]
  },
  {
   "cell_type": "code",
   "execution_count": 7,
   "metadata": {},
   "outputs": [
    {
     "data": {
      "text/plain": [
       "{'0.3', '0.8'}"
      ]
     },
     "execution_count": 7,
     "metadata": {},
     "output_type": "execute_result"
    }
   ],
   "source": [
    "set(kdf_Data_df['algo.kwargs.sf_lambda'].values)"
   ]
  },
  {
   "cell_type": "code",
   "execution_count": 8,
   "metadata": {},
   "outputs": [
    {
     "data": {
      "text/plain": [
       "{'12', '15', '3', '6', '9'}"
      ]
     },
     "execution_count": 8,
     "metadata": {},
     "output_type": "execute_result"
    }
   ],
   "source": [
    "set(kdf_Data_df['training.seed'].values)"
   ]
  },
  {
   "cell_type": "code",
   "execution_count": 9,
   "metadata": {},
   "outputs": [
    {
     "data": {
      "text/plain": [
       "{'ACLambda'}"
      ]
     },
     "execution_count": 9,
     "metadata": {},
     "output_type": "execute_result"
    }
   ],
   "source": [
    "set(tdlamb_Data_df['algo.cls_string'].values)"
   ]
  },
  {
   "cell_type": "code",
   "execution_count": 10,
   "metadata": {},
   "outputs": [
    {
     "data": {
      "text/plain": [
       "{'0.0'}"
      ]
     },
     "execution_count": 10,
     "metadata": {},
     "output_type": "execute_result"
    }
   ],
   "source": [
    "set(tdlamb_Data_df['algo.kwargs.trace_lambda'].values)"
   ]
  },
  {
   "cell_type": "code",
   "execution_count": 11,
   "metadata": {},
   "outputs": [
    {
     "data": {
      "text/plain": [
       "{'2', '4'}"
      ]
     },
     "execution_count": 11,
     "metadata": {},
     "output_type": "execute_result"
    }
   ],
   "source": [
    "set(tdlamb_Data_df['training.seed'].values)"
   ]
  },
  {
   "cell_type": "code",
   "execution_count": 15,
   "metadata": {
    "scrolled": false
   },
   "outputs": [
    {
     "data": {
      "image/png": "[encoded data removed]",
      "text/plain": [
       "<Figure size 432x288 with 1 Axes>"
      ]
     },
     "metadata": {
      "needs_background": "light"
     },
     "output_type": "display_data"
    }
   ],
   "source": [
    "def round_2_int(value, nearest=10):\n",
    "    try:\n",
    "        rounded = int(value / nearest) * nearest\n",
    "    except ValueError:\n",
    "        rounded = np.nan\n",
    "    return rounded\n",
    "\n",
    "def simple_lineplot(x, y, data, sns_kwargs={},\n",
    "                    round_x=None, round_y=None,\n",
    "                    filters=None):    \n",
    "    df = data.copy(deep=True)\n",
    "    # In case non numeric\n",
    "    df[x] = pd.to_numeric(df[x], errors='coerce')\n",
    "    df[y] = pd.to_numeric(df[y], errors='coerce')\n",
    "    # if roudning\n",
    "    if round_x is not None:\n",
    "        df[x] = [round_2_int(v, round_x) for v in df[x].values]\n",
    "    if round_y is not None:\n",
    "        df[y] = [round_2_int(v, round_y) for v in df[y].values]\n",
    "\n",
    "    \n",
    "    if filters is not None:\n",
    "        for f_k in filters:\n",
    "            df = df[df[f_k] == filters[f_k]]\n",
    "    \n",
    "    sns.lineplot(x=x, y=y,\n",
    "                 data=df, **sns_kwargs)\n",
    "    \n",
    "    \n",
    "simple_lineplot(\n",
    "    x='total_steps', y='episode_return', \n",
    "    round_x=1e4,\n",
    "    data=tdlamb_Data_df,\n",
    "    sns_kwargs={'ci': 95, 'n_boot': 100},\n",
    "    filters={}\n",
    ")\n",
    "\n",
    "simple_lineplot(\n",
    "    x='total_steps', y='episode_return', \n",
    "    round_x=1e4,\n",
    "    data=kdf_Data_df,\n",
    "    sns_kwargs={'ci': 95, 'n_boot': 100},\n",
    "    filters={'algo.kwargs.sf_lambda': '0.3'}\n",
    ")\n",
    "plt.legend(['TD(0)', 'KSF(0.3)'])\n",
    "plt.title('Seaquest')\n",
    "plt.show()"
   ]
  },
  {
   "cell_type": "code",
   "execution_count": null,
   "metadata": {},
   "outputs": [],
   "source": []
  },
  {
   "cell_type": "code",
   "execution_count": null,
   "metadata": {},
   "outputs": [],
   "source": []
  },
  {
   "cell_type": "code",
   "execution_count": null,
   "metadata": {},
   "outputs": [],
   "source": [
    "def script_plt_multi_sf_hidden_sizes(df):\n",
    "    plt_hue = 'algo.kwargs.sf_lambda'\n",
    "    \n",
    "    df = df.copy(deep=True)\n",
    "    df[plt_hue] = pd.to_numeric(df[plt_hue], errors='coerce')\n",
    "    \n",
    "    \n",
    "    \n",
    "    plt.figure(figsize=(14,4))\n",
    "    \n",
    "    n_hues = len(set(df[plt_hue].values))\n",
    "    c_palette = sns.color_palette(\"cubehelix\", n_hues) \n",
    "    #c_palette = None\n",
    "    \n",
    "    plt.subplot(1,2,1)\n",
    "    simple_lineplot(\n",
    "        x='total_steps', y='episode_return', \n",
    "        round_x=5e3,\n",
    "        data=df,\n",
    "        sns_kwargs={'hue': 'algo.kwargs.sf_lambda', \n",
    "                    'palette': c_palette,\n",
    "                    'ci': 'sd', 'n_boot': 10},\n",
    "        filters={'model.kwargs.sf_hidden_sizes':'[256]'}\n",
    "    )\n",
    "    plt.title('SF hidden sizes: [256]')\n",
    "    \n",
    "    plt.subplot(1,2,2)\n",
    "    simple_lineplot(\n",
    "        x='total_steps', y='episode_return', \n",
    "        round_x=5e3,\n",
    "        data=df,\n",
    "        sns_kwargs={'hue': 'algo.kwargs.sf_lambda', \n",
    "                    'palette': c_palette,\n",
    "                    'ci': 'sd', 'n_boot': 10},\n",
    "        filters={'model.kwargs.sf_hidden_sizes':'[256, 256]'}\n",
    "    )\n",
    "    plt.title('SF hidden sizes: [256, 256]')\n",
    "\n",
    "script_plt_multi_sf_hidden_sizes(Data_df)"
   ]
  },
  {
   "cell_type": "code",
   "execution_count": null,
   "metadata": {},
   "outputs": [],
   "source": []
  }
 ],
 "metadata": {
  "kernelspec": {
   "display_name": "Python 3",
   "language": "python",
   "name": "python3"
  },
  "language_info": {
   "codemirror_mode": {
    "name": "ipython",
    "version": 3
   },
   "file_extension": ".py",
   "mimetype": "text/x-python",
   "name": "python",
   "nbconvert_exporter": "python",
   "pygments_lexer": "ipython3",
   "version": "3.7.5"
  }
 },
 "nbformat": 4,
 "nbformat_minor": 4
}
